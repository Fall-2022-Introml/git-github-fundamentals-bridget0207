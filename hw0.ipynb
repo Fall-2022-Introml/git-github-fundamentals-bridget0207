{
 "cells": [
  {
   "cell_type": "code",
   "execution_count": 1,
   "id": "71e2c160",
   "metadata": {},
   "outputs": [
    {
     "name": "stdout",
     "output_type": "stream",
     "text": [
      "10\n"
     ]
    }
   ],
   "source": [
    "a = 5 + 5\n",
    "print(a)"
   ]
  },
  {
   "cell_type": "code",
   "execution_count": 5,
   "id": "cc522aa1",
   "metadata": {},
   "outputs": [
    {
     "name": "stdout",
     "output_type": "stream",
     "text": [
      "[1, 2, 3, 4]\n",
      "[1, 2, 3, 4, 5]\n"
     ]
    }
   ],
   "source": [
    "lista = [1,2,3,4]\n",
    "listb = lista.copy()\n",
    "listb.append(5)\n",
    "print(lista)\n",
    "print(listb)\n"
   ]
  },
  {
   "cell_type": "code",
   "execution_count": 11,
   "id": "f6a834dc",
   "metadata": {},
   "outputs": [
    {
     "name": "stdout",
     "output_type": "stream",
     "text": [
      "Hello world\n"
     ]
    }
   ],
   "source": [
    "print('Hello world')"
   ]
  },
  {
   "cell_type": "code",
   "execution_count": null,
   "id": "4523ae46",
   "metadata": {},
   "outputs": [],
   "source": [
    "a = 5\n",
    "b = a\n",
    "print(b)"
   ]
  },
  {
   "cell_type": "code",
   "execution_count": 17,
   "id": "31990dfc",
   "metadata": {},
   "outputs": [
    {
     "name": "stdout",
     "output_type": "stream",
     "text": [
      "anaconda5\n"
     ]
    }
   ],
   "source": [
    "a = 'anaconda'\n",
    "b = '5'\n",
    "print(a+b)"
   ]
  },
  {
   "cell_type": "markdown",
   "id": "05f57fdc",
   "metadata": {},
   "source": [
    "# The larger heading"
   ]
  },
  {
   "cell_type": "markdown",
   "id": "218bfb33",
   "metadata": {},
   "source": [
    "## Only for testing"
   ]
  },
  {
   "cell_type": "code",
   "execution_count": null,
   "id": "acd39240",
   "metadata": {},
   "outputs": [],
   "source": []
  }
 ],
 "metadata": {
  "kernelspec": {
   "display_name": "Python 3 (ipykernel)",
   "language": "python",
   "name": "python3"
  },
  "language_info": {
   "codemirror_mode": {
    "name": "ipython",
    "version": 3
   },
   "file_extension": ".py",
   "mimetype": "text/x-python",
   "name": "python",
   "nbconvert_exporter": "python",
   "pygments_lexer": "ipython3",
   "version": "3.9.12"
  }
 },
 "nbformat": 4,
 "nbformat_minor": 5
}
